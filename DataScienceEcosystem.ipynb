{
 "cells": [
  {
   "cell_type": "markdown",
   "id": "6544fa38-0f7e-466a-9f86-88b83b7645c6",
   "metadata": {},
   "source": [
    "# Data Science Tools and Ecosystem"
   ]
  },
  {
   "cell_type": "markdown",
   "id": "95a3b5af-f5d8-4d7f-9fb3-31b51663b8e7",
   "metadata": {},
   "source": [
    "In this notebook, Data Science Tools and Ecosystem are summarized."
   ]
  },
  {
   "cell_type": "markdown",
   "id": "f3afc6ce-8421-451c-b7ef-df36c815fc9b",
   "metadata": {},
   "source": [
    "**Objectives:**\n",
    "- Popular languages of Data Science\n",
    "- Commonly used libraries in Data Science\n",
    "- Data Science Tools\n",
    "- Some basic arithmetic operations"
   ]
  },
  {
   "cell_type": "markdown",
   "id": "855106a9-cd64-45a6-9317-e3de3e0591f6",
   "metadata": {},
   "source": [
    "Some of the popular languages that Data Scientists use are\n",
    "1. Python\n",
    "2. R\n",
    "3. Julia\n",
    "4. SQL"
   ]
  },
  {
   "cell_type": "markdown",
   "id": "3191264b-0ba4-4f86-8fa8-81ba7a071f83",
   "metadata": {},
   "source": [
    "Some of the commonly used libraries used by Data Scientists include:\n",
    "1. pandas\n",
    "2. numpy\n",
    "3. matplotlib\n",
    "4. scikit-learn\n",
    "5. seaborn\n",
    "6. tensorflow"
   ]
  },
  {
   "cell_type": "markdown",
   "id": "7c8efe70-ce17-4957-8da8-6795fd3f07d8",
   "metadata": {},
   "source": [
    "| Data Science Tools|\n",
    "-------------------\n",
    "| Jupyter Notebook |\n",
    "| RStudio |\n",
    "| Visual Studio Code |"
   ]
  },
  {
   "cell_type": "markdown",
   "id": "56e207ea-15a0-4421-8327-cc6d70c1ce9a",
   "metadata": {},
   "source": [
    "### Below are a few examples of evaluating arithmetic expressions in Python."
   ]
  },
  {
   "cell_type": "code",
   "execution_count": 2,
   "id": "ea4eecd5-d0e1-46a5-a574-fa8bc45634ae",
   "metadata": {
    "tags": []
   },
   "outputs": [
    {
     "data": {
      "text/plain": [
       "17"
      ]
     },
     "execution_count": 2,
     "metadata": {},
     "output_type": "execute_result"
    }
   ],
   "source": [
    "# This a simple arithmetic expression to mutiply then add integers\n",
    "(3*4)+5"
   ]
  },
  {
   "cell_type": "code",
   "execution_count": 3,
   "id": "1725167a-e1ed-482f-8055-e3bd4627b9da",
   "metadata": {
    "tags": []
   },
   "outputs": [
    {
     "data": {
      "text/plain": [
       "3.3333333333333335"
      ]
     },
     "execution_count": 3,
     "metadata": {},
     "output_type": "execute_result"
    }
   ],
   "source": [
    "# This will convert 200 minutes to hours by diving by 60\n",
    "200/60"
   ]
  },
  {
   "cell_type": "markdown",
   "id": "cc9846ac-0157-4cf3-9211-705d21281cc8",
   "metadata": {},
   "source": [
    "## Author\n",
    "K. M. Azwad Hossain"
   ]
  }
 ],
 "metadata": {
  "kernelspec": {
   "display_name": "Python",
   "language": "python",
   "name": "conda-env-python-py"
  },
  "language_info": {
   "codemirror_mode": {
    "name": "ipython",
    "version": 3
   },
   "file_extension": ".py",
   "mimetype": "text/x-python",
   "name": "python",
   "nbconvert_exporter": "python",
   "pygments_lexer": "ipython3",
   "version": "3.7.12"
  }
 },
 "nbformat": 4,
 "nbformat_minor": 5
}
